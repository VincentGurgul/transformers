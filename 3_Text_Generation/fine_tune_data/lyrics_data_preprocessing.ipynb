{
 "cells": [
  {
   "cell_type": "markdown",
   "id": "c7013687",
   "metadata": {},
   "source": [
    "In this notebook, we will prepare the lyrics data downloaded from [Kaggle](https://www.kaggle.com/neisse/scrapped-lyrics-from-6-genres?select=lyrics-data.csv)."
   ]
  },
  {
   "cell_type": "markdown",
   "id": "8246d820",
   "metadata": {},
   "source": [
    "_Credit: for the preparation of the lyrics data, we took some of the code privided by this Towards Data Science [post](https://towardsdatascience.com/how-to-fine-tune-gpt-2-for-text-generation-ae2ea53bc272)._"
   ]
  },
  {
   "cell_type": "markdown",
   "id": "fe083b9d",
   "metadata": {},
   "source": [
    "# Main Steps\n",
    "1. Load in the datasets\n",
    "2. Merge the two datasets in order to combine the genre and lyrics\n",
    "3. Keep only the data that meets the following criteria:\n",
    "    - Lyrics written in English (``Idiom``=='ENGLISH')\n",
    "    - Popular enough (``Popularity``>12)\n",
    "4. Select the desired ``genre`` of the songs (``Genre``=='Pop')"
   ]
  },
  {
   "cell_type": "code",
   "execution_count": 4,
   "id": "c1d63f2e",
   "metadata": {},
   "outputs": [],
   "source": [
    "import pandas as pd\n",
    "from tqdm import tqdm, trange\n",
    "\n",
    "### Load in data\n",
    "lyrics = pd.read_csv('./raw_data/lyrics-data.csv')\n",
    "artists = pd.read_csv('./raw_data/artists-data.csv')\n",
    "\n",
    "# merge the two datasets\n",
    "lyrics_data = lyrics.merge(artists[['Artist','Popularity', 'Genre', 'Link']],\n",
    "                  left_on='ALink', right_on='Link', how='inner')\n",
    "\n",
    "# Keep only the data that meets certain criteria\n",
    "\n",
    "crit_1 = lyrics_data['Idiom']=='ENGLISH'\n",
    "crit_2 = lyrics_data['Genre'].isin(['Pop'])\n",
    "crit_3 = lyrics_data['Popularity']>5\n",
    "\n",
    "lyrics_data = lyrics_data[crit_1 & crit_2 & crit_3]\n",
    "                          \n",
    "# drop columns we don't need\n",
    "lyrics_data = lyrics_data.drop(columns=['ALink','SLink','Idiom','Link'])\n",
    "\n",
    "# reformat the columns names\n",
    "lyrics_data.rename(columns={'SName':'song_name'}, inplace=True)\n",
    "lyrics_data.columns = lyrics_data.columns.str.lower()\n",
    "\n",
    "# drop duplicates \n",
    "lyrics_data = lyrics_data.drop_duplicates().reset_index(drop=True)"
   ]
  },
  {
   "cell_type": "code",
   "execution_count": 5,
   "id": "6feb7c26",
   "metadata": {
    "scrolled": true
   },
   "outputs": [
    {
     "data": {
      "text/html": [
       "<div>\n",
       "<style scoped>\n",
       "    .dataframe tbody tr th:only-of-type {\n",
       "        vertical-align: middle;\n",
       "    }\n",
       "\n",
       "    .dataframe tbody tr th {\n",
       "        vertical-align: top;\n",
       "    }\n",
       "\n",
       "    .dataframe thead th {\n",
       "        text-align: right;\n",
       "    }\n",
       "</style>\n",
       "<table border=\"1\" class=\"dataframe\">\n",
       "  <thead>\n",
       "    <tr style=\"text-align: right;\">\n",
       "      <th></th>\n",
       "      <th>song_name</th>\n",
       "      <th>lyric</th>\n",
       "      <th>artist</th>\n",
       "      <th>popularity</th>\n",
       "      <th>genre</th>\n",
       "    </tr>\n",
       "  </thead>\n",
       "  <tbody>\n",
       "    <tr>\n",
       "      <th>0</th>\n",
       "      <td>Careless Whisper</td>\n",
       "      <td>I feel so unsure. As I take your hand and lead...</td>\n",
       "      <td>George Michael</td>\n",
       "      <td>5.1</td>\n",
       "      <td>Pop</td>\n",
       "    </tr>\n",
       "    <tr>\n",
       "      <th>1</th>\n",
       "      <td>Freedom '90</td>\n",
       "      <td>I won't let you down. I will not give you up. ...</td>\n",
       "      <td>George Michael</td>\n",
       "      <td>5.1</td>\n",
       "      <td>Pop</td>\n",
       "    </tr>\n",
       "    <tr>\n",
       "      <th>2</th>\n",
       "      <td>One More Try</td>\n",
       "      <td>I've had enough of danger. And people on the s...</td>\n",
       "      <td>George Michael</td>\n",
       "      <td>5.1</td>\n",
       "      <td>Pop</td>\n",
       "    </tr>\n",
       "    <tr>\n",
       "      <th>3</th>\n",
       "      <td>Father Figure</td>\n",
       "      <td>That's all I wanted. Something special, someth...</td>\n",
       "      <td>George Michael</td>\n",
       "      <td>5.1</td>\n",
       "      <td>Pop</td>\n",
       "    </tr>\n",
       "    <tr>\n",
       "      <th>4</th>\n",
       "      <td>Heal The Pain</td>\n",
       "      <td>Let me tell you a secret. Put it in your heart...</td>\n",
       "      <td>George Michael</td>\n",
       "      <td>5.1</td>\n",
       "      <td>Pop</td>\n",
       "    </tr>\n",
       "    <tr>\n",
       "      <th>...</th>\n",
       "      <td>...</td>\n",
       "      <td>...</td>\n",
       "      <td>...</td>\n",
       "      <td>...</td>\n",
       "      <td>...</td>\n",
       "    </tr>\n",
       "    <tr>\n",
       "      <th>10234</th>\n",
       "      <td>Life Is A Party</td>\n",
       "      <td>Ah, life is a party. it´s a ride in your jeep....</td>\n",
       "      <td>Xuxa</td>\n",
       "      <td>14.1</td>\n",
       "      <td>Pop</td>\n",
       "    </tr>\n",
       "    <tr>\n",
       "      <th>10235</th>\n",
       "      <td>Our Song Of Peace</td>\n",
       "      <td>How great it´s to sing this song. ioioioia. wi...</td>\n",
       "      <td>Xuxa</td>\n",
       "      <td>14.1</td>\n",
       "      <td>Pop</td>\n",
       "    </tr>\n",
       "    <tr>\n",
       "      <th>10236</th>\n",
       "      <td>Quem Dorme É o Leão</td>\n",
       "      <td>Ih, Ih, Ih, Ih, Ih... Amamauê\". \"Ih, Ih, Ih, I...</td>\n",
       "      <td>Xuxa</td>\n",
       "      <td>14.1</td>\n",
       "      <td>Pop</td>\n",
       "    </tr>\n",
       "    <tr>\n",
       "      <th>10237</th>\n",
       "      <td>Rainbow</td>\n",
       "      <td>i will paint a rainbow filled with energy. if ...</td>\n",
       "      <td>Xuxa</td>\n",
       "      <td>14.1</td>\n",
       "      <td>Pop</td>\n",
       "    </tr>\n",
       "    <tr>\n",
       "      <th>10238</th>\n",
       "      <td>Halo</td>\n",
       "      <td>Remember those walls I built?. Well, baby, the...</td>\n",
       "      <td>Ludmilla</td>\n",
       "      <td>6.5</td>\n",
       "      <td>Pop</td>\n",
       "    </tr>\n",
       "  </tbody>\n",
       "</table>\n",
       "<p>10239 rows × 5 columns</p>\n",
       "</div>"
      ],
      "text/plain": [
       "                 song_name                                              lyric  \\\n",
       "0         Careless Whisper  I feel so unsure. As I take your hand and lead...   \n",
       "1              Freedom '90  I won't let you down. I will not give you up. ...   \n",
       "2             One More Try  I've had enough of danger. And people on the s...   \n",
       "3            Father Figure  That's all I wanted. Something special, someth...   \n",
       "4            Heal The Pain  Let me tell you a secret. Put it in your heart...   \n",
       "...                    ...                                                ...   \n",
       "10234      Life Is A Party  Ah, life is a party. it´s a ride in your jeep....   \n",
       "10235    Our Song Of Peace  How great it´s to sing this song. ioioioia. wi...   \n",
       "10236  Quem Dorme É o Leão  Ih, Ih, Ih, Ih, Ih... Amamauê\". \"Ih, Ih, Ih, I...   \n",
       "10237              Rainbow  i will paint a rainbow filled with energy. if ...   \n",
       "10238                 Halo  Remember those walls I built?. Well, baby, the...   \n",
       "\n",
       "               artist  popularity genre  \n",
       "0      George Michael         5.1   Pop  \n",
       "1      George Michael         5.1   Pop  \n",
       "2      George Michael         5.1   Pop  \n",
       "3      George Michael         5.1   Pop  \n",
       "4      George Michael         5.1   Pop  \n",
       "...               ...         ...   ...  \n",
       "10234            Xuxa        14.1   Pop  \n",
       "10235            Xuxa        14.1   Pop  \n",
       "10236            Xuxa        14.1   Pop  \n",
       "10237            Xuxa        14.1   Pop  \n",
       "10238        Ludmilla         6.5   Pop  \n",
       "\n",
       "[10239 rows x 5 columns]"
      ]
     },
     "execution_count": 5,
     "metadata": {},
     "output_type": "execute_result"
    }
   ],
   "source": [
    "lyrics_data"
   ]
  },
  {
   "cell_type": "code",
   "execution_count": 10,
   "id": "10a1dbd1",
   "metadata": {
    "scrolled": true
   },
   "outputs": [
    {
     "data": {
      "text/html": [
       "<div>\n",
       "<style scoped>\n",
       "    .dataframe tbody tr th:only-of-type {\n",
       "        vertical-align: middle;\n",
       "    }\n",
       "\n",
       "    .dataframe tbody tr th {\n",
       "        vertical-align: top;\n",
       "    }\n",
       "\n",
       "    .dataframe thead th {\n",
       "        text-align: right;\n",
       "    }\n",
       "</style>\n",
       "<table border=\"1\" class=\"dataframe\">\n",
       "  <thead>\n",
       "    <tr style=\"text-align: right;\">\n",
       "      <th></th>\n",
       "      <th>song_name</th>\n",
       "      <th>lyric</th>\n",
       "      <th>artist</th>\n",
       "      <th>popularity</th>\n",
       "      <th>genre</th>\n",
       "    </tr>\n",
       "  </thead>\n",
       "  <tbody>\n",
       "    <tr>\n",
       "      <th>10236</th>\n",
       "      <td>Quem Dorme É o Leão</td>\n",
       "      <td>Ih, Ih, Ih, Ih, Ih... Amamauê\". \"Ih, Ih, Ih, I...</td>\n",
       "      <td>Xuxa</td>\n",
       "      <td>14.1</td>\n",
       "      <td>Pop</td>\n",
       "    </tr>\n",
       "  </tbody>\n",
       "</table>\n",
       "</div>"
      ],
      "text/plain": [
       "                 song_name                                              lyric  \\\n",
       "10236  Quem Dorme É o Leão  Ih, Ih, Ih, Ih, Ih... Amamauê\". \"Ih, Ih, Ih, I...   \n",
       "\n",
       "      artist  popularity genre  \n",
       "10236   Xuxa        14.1   Pop  "
      ]
     },
     "execution_count": 10,
     "metadata": {},
     "output_type": "execute_result"
    }
   ],
   "source": [
    "lyrics_data[lyrics_data.lyric.str.contains('Que')]"
   ]
  },
  {
   "cell_type": "code",
   "execution_count": 9,
   "id": "becc7cda",
   "metadata": {},
   "outputs": [
    {
     "data": {
      "text/plain": [
       "153325    Ih, Ih, Ih, Ih, Ih... Amamauê\". \"Ih, Ih, Ih, I...\n",
       "Name: Lyric, dtype: object"
      ]
     },
     "execution_count": 9,
     "metadata": {},
     "output_type": "execute_result"
    }
   ],
   "source": [
    "lyrics.loc[lyrics.SName == 'Quem Dorme É o Leão'].Lyric"
   ]
  },
  {
   "cell_type": "code",
   "execution_count": 3,
   "id": "7106faae",
   "metadata": {},
   "outputs": [],
   "source": [
    "lyrics_data.to_csv('lyrics_data.csv')"
   ]
  }
 ],
 "metadata": {
  "kernelspec": {
   "display_name": "Python 3 (ipykernel)",
   "language": "python",
   "name": "python3"
  },
  "language_info": {
   "codemirror_mode": {
    "name": "ipython",
    "version": 3
   },
   "file_extension": ".py",
   "mimetype": "text/x-python",
   "name": "python",
   "nbconvert_exporter": "python",
   "pygments_lexer": "ipython3",
   "version": "3.9.7"
  }
 },
 "nbformat": 4,
 "nbformat_minor": 5
}
